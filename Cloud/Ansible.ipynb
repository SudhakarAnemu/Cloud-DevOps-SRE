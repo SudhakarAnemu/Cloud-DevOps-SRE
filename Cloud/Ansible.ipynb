{
  "nbformat": 4,
  "nbformat_minor": 0,
  "metadata": {
    "colab": {
      "name": "Ansible.ipynb",
      "provenance": []
    },
    "kernelspec": {
      "name": "python3",
      "display_name": "Python 3"
    }
  },
  "cells": [
    {
      "cell_type": "markdown",
      "metadata": {
        "id": "NkqeO_sZyV84"
      },
      "source": [
        "#JS"
      ]
    },
    {
      "cell_type": "code",
      "metadata": {
        "id": "1OcFqEUdyAoB"
      },
      "source": [
        ""
      ],
      "execution_count": null,
      "outputs": []
    }
  ]
}